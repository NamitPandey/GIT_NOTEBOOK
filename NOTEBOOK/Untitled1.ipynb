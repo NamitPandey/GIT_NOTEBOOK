{
 "cells": [
  {
   "cell_type": "code",
   "execution_count": null,
   "metadata": {},
   "outputs": [],
   "source": [
    "def get_data_month(dataModel):\n",
    "    \n",
    "    currentMthNmbr = datetime.datetime.now().month # fetch current month number\n",
    "    year = datetime.datetime.now().year # fetch current year\n",
    "    tempQS = 0 # temporary variable\n",
    "\n",
    "    while tempQS == 0:\n",
    "\n",
    "        if currentMthNmbr == 0: \n",
    "\n",
    "            currentMthNmbr = 12\n",
    "            \n",
    "            year = datetime.datetime.now().year-1\n",
    "\n",
    "        monthName = calendar.month_name[currentMthNmbr].upper()\n",
    "\n",
    "        tempQS = dataModel.filter(<filter your query>)\n",
    "\n",
    "        tempQS = len(tempQS)\n",
    "\n",
    "        if tempQS > 0:\n",
    "            \n",
    "            return monthName, year\n",
    "\n",
    "        else:\n",
    "\n",
    "            currentMthNmbr-=1"
   ]
  },
  {
   "cell_type": "code",
   "execution_count": null,
   "metadata": {},
   "outputs": [],
   "source": []
  }
 ],
 "metadata": {
  "kernelspec": {
   "display_name": "Python 3",
   "language": "python",
   "name": "python3"
  },
  "language_info": {
   "codemirror_mode": {
    "name": "ipython",
    "version": 3
   },
   "file_extension": ".py",
   "mimetype": "text/x-python",
   "name": "python",
   "nbconvert_exporter": "python",
   "pygments_lexer": "ipython3",
   "version": "3.9.1"
  }
 },
 "nbformat": 4,
 "nbformat_minor": 4
}
